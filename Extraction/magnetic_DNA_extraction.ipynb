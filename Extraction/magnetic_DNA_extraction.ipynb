{
 "cells": [
  {
   "cell_type": "markdown",
   "metadata": {},
   "source": [
    "# Magnetic DNA extraction protocol"
   ]
  },
  {
   "cell_type": "markdown",
   "metadata": {},
   "source": [
    "This follows the Bio-On-Magnetic_Beads protocol 7.1 for genomic DNA extraction. \n",
    "\n",
    "Isolates should have been bead-beat in our strip tubes and spun down in the plate centrifuge. \n",
    "\n",
    "Reagents needed:\n",
    "- reservoir plate with 15 mL Isopropanol in columns 1-6\n",
    "- reservoir plate with 15 mL 80% EtOH in columns 7-12\n",
    "- deep well plate with ≥300 µL beads in each well of column 1\n",
    "- deep well plate with 1 mL elution buffer in each well of column 2"
   ]
  },
  {
   "cell_type": "markdown",
   "metadata": {},
   "source": [
    "### Deck"
   ]
  },
  {
   "cell_type": "markdown",
   "metadata": {},
   "source": [
    "1. deep well plate (empty)\n",
    "2. 300 µL tips - buffer transfer\n",
    "3. PCR plate (final samples)\n",
    "4. Lysate\n",
    "5. reservoir plate (wash buffers)\n",
    "6. 200 µL filter tips - final transfer\n",
    "7. 200 µL filter tips - lysate transfer\n",
    "8. 300 µL tips - bead washes\n",
    "9. empty\n",
    "10. deep well plate (reagents)\n",
    "11. mag module\n",
    "12. trash"
   ]
  },
  {
   "cell_type": "markdown",
   "metadata": {},
   "source": [
    "### Setup"
   ]
  },
  {
   "cell_type": "code",
   "execution_count": 1,
   "metadata": {},
   "outputs": [
    {
     "name": "stderr",
     "output_type": "stream",
     "text": [
      "/Users/jgs286/.opentrons/deck_calibration.json not found. Loading defaults\n",
      "/Users/jgs286/.opentrons/robot_settings.json not found. Loading defaults\n"
     ]
    },
    {
     "name": "stdout",
     "output_type": "stream",
     "text": [
      "Loading json containers...\n",
      "Json container file load complete, listing database\n",
      "Found 0 containers to add. Starting migration...\n",
      "Database migration complete!\n"
     ]
    }
   ],
   "source": [
    "from opentrons import protocol_api\n",
    "from opentrons.protocols.types import APIVersion\n",
    "\n",
    "metadata = {\n",
    "    'apiLevel': '2.2',\n",
    "    'author': 'Jon Sanders'}\n",
    "\n",
    "\n",
    "api_version = APIVersion(2, 2)"
   ]
  },
  {
   "cell_type": "code",
   "execution_count": 2,
   "metadata": {},
   "outputs": [
    {
     "name": "stderr",
     "output_type": "stream",
     "text": [
      "/Users/jgs286/.opentrons/deck_calibration.json not found. Loading defaults\n",
      "/Users/jgs286/.opentrons/robot_settings.json not found. Loading defaults\n"
     ]
    }
   ],
   "source": [
    "protocol = protocol_api.ProtocolContext(api_version=api_version)"
   ]
  },
  {
   "cell_type": "code",
   "execution_count": 3,
   "metadata": {},
   "outputs": [],
   "source": [
    "# define deck positions and labware\n",
    "\n",
    "# tips\n",
    "tiprack_buffers = protocol.load_labware('opentrons_96_tiprack_300ul', 2)\n",
    "tiprack_elution = protocol.load_labware('opentrons_96_filtertiprack_200ul', 6)\n",
    "tiprack_lysate = protocol.load_labware('opentrons_96_filtertiprack_200ul', 7)\n",
    "tiprack_wash = protocol.load_labware('opentrons_96_tiprack_300ul', 8)\n",
    "\n",
    "# plates\n",
    "wash_buffers = protocol.load_labware('nest_12_reservoir_15ml', 5, 'wash buffers')\n",
    "reagents = protocol.load_labware('usascientific_96_wellplate_2.4ml_deep', 10, 'reagents')\n",
    "lysate = protocol.load_labware('usascientific_96_wellplate_2.4ml_deep', 4, 'wash buffers')\n",
    "transfer = protocol.load_labware('usascientific_96_wellplate_2.4ml_deep', 1, 'wash buffers')\n",
    "eluate = protocol.load_labware('biorad_96_wellplate_200ul_pcr', 3, 'eluate')\n",
    "waste = protocol.load_labware('nest_1_reservoir_195ml', 9, 'liquid waste')\n",
    "\n",
    "# define hardware modules\\\n",
    "magblock = protocol.load_module('Magnetic Module', 11)\n",
    "\n",
    "# initialize pipettes\n",
    "pipette_left = protocol.load_instrument('p300_multi', \n",
    "                                        'left',\n",
    "                                        tip_racks=[tiprack_buffers])\n",
    "\n",
    "pipette_right = protocol.load_instrument('p10_multi', \n",
    "                                        'right',\n",
    "                                        tip_racks=[])\n",
    "\n"
   ]
  },
  {
   "cell_type": "code",
   "execution_count": 4,
   "metadata": {},
   "outputs": [],
   "source": [
    "protocol.home()"
   ]
  },
  {
   "cell_type": "markdown",
   "metadata": {},
   "source": [
    "### Limit columns"
   ]
  },
  {
   "cell_type": "code",
   "execution_count": 5,
   "metadata": {},
   "outputs": [],
   "source": [
    "cols = ['A1', 'A2', 'A3']"
   ]
  },
  {
   "cell_type": "markdown",
   "metadata": {},
   "source": [
    "### Add beads to new plate"
   ]
  },
  {
   "cell_type": "code",
   "execution_count": 6,
   "metadata": {},
   "outputs": [
    {
     "data": {
      "text/plain": [
       "<InstrumentContext: p300_multi_v1 in LEFT>"
      ]
     },
     "execution_count": 6,
     "metadata": {},
     "output_type": "execute_result"
    }
   ],
   "source": [
    "pipette_left.distribute(20,\n",
    "                        reagents.wells_by_name()['A1'],\n",
    "                        [transfer[x] for x in cols],\n",
    "                        touch_tip=True,\n",
    "                        disposal_volume=10,\n",
    "                        trash=True,\n",
    "                        new_tip='once')"
   ]
  },
  {
   "cell_type": "markdown",
   "metadata": {},
   "source": [
    "### Transfer lysate to new plate"
   ]
  },
  {
   "cell_type": "code",
   "execution_count": 7,
   "metadata": {},
   "outputs": [],
   "source": [
    "# this needs to be modified to position transfer aspirate location accurately. \n",
    "\n",
    "for col in cols:\n",
    "    # do first transfer.\n",
    "    pipette_left.pick_up_tip(tiprack_lysate.wells_by_name()[col])\n",
    "    pipette_left.aspirate(180, lysate[col].bottom(z=15), rate=0.25)\n",
    "    pipette_left.air_gap(10)\n",
    "    pipette_left.dispense(200, transfer[col])\n",
    "    pipette_left.blow_out()\n",
    "    pipette_left.touch_tip(v_offset=-1)\n",
    "    \n",
    "    # do second transfer.\n",
    "    pipette_left.aspirate(180, lysate[col].bottom(z=10), rate=0.25)\n",
    "    pipette_left.air_gap(10)\n",
    "    pipette_left.dispense(200, transfer[col])\n",
    "    pipette_left.blow_out()\n",
    "    pipette_left.touch_tip(v_offset=-1)\n",
    "    \n",
    "    pipette_left.return_tip()"
   ]
  },
  {
   "cell_type": "markdown",
   "metadata": {},
   "source": [
    "### Add isopropanol\n"
   ]
  },
  {
   "cell_type": "code",
   "execution_count": 8,
   "metadata": {},
   "outputs": [],
   "source": [
    "isopropanol_wells = ['A1','A2','A3','A4','A5','A6']\n",
    "ethanol_wells = ['A7','A8','A9','A10','A11','A12']"
   ]
  },
  {
   "cell_type": "code",
   "execution_count": 9,
   "metadata": {},
   "outputs": [
    {
     "data": {
      "text/plain": [
       "<InstrumentContext: p300_multi_v1 in LEFT>"
      ]
     },
     "execution_count": 9,
     "metadata": {},
     "output_type": "execute_result"
    }
   ],
   "source": [
    "pipette_left.transfer(300,\n",
    "                      [wash_buffers[x] for x in isopropanol_wells],\n",
    "                      [transfer[x] for x in cols],\n",
    "                      touch_tip=False,\n",
    "                      trash=True,\n",
    "                      new_tip='once')"
   ]
  },
  {
   "cell_type": "markdown",
   "metadata": {},
   "source": [
    "### Prompt user to put on rotater"
   ]
  },
  {
   "cell_type": "code",
   "execution_count": 10,
   "metadata": {},
   "outputs": [],
   "source": [
    "protocol.pause('Seal plate in Position 1 and place on rotater for 5 minutes.'\n",
    "               ' Then return to magnetic module in position 11 and press Resume')"
   ]
  },
  {
   "cell_type": "markdown",
   "metadata": {},
   "source": [
    "### Move to magplate and bind"
   ]
  },
  {
   "cell_type": "code",
   "execution_count": 11,
   "metadata": {},
   "outputs": [],
   "source": [
    "mag_plate = magblock.load_labware('usascientific_96_wellplate_2.4ml_deep')\n",
    "\n",
    "# bind for 7 minutes\n",
    "\n",
    "magblock.engage()\n",
    "protocol.delay(minutes=7)\n"
   ]
  },
  {
   "cell_type": "markdown",
   "metadata": {},
   "source": [
    "### Do first wash"
   ]
  },
  {
   "cell_type": "code",
   "execution_count": 12,
   "metadata": {},
   "outputs": [],
   "source": [
    "# remove supernatant\n",
    "for col in cols:\n",
    "    # four transfers to remove supernatant:\n",
    "    pipette_left.pick_up_tip(tiprack_lysate.wells_by_name()[col])\n",
    "    for i in range(0,4):\n",
    "        pipette_left.aspirate(190, mag_plate[col], rate=1)\n",
    "        pipette_left.air_gap(10)\n",
    "        pipette_left.dispense(200, waste['A1'])\n",
    "        pipette_left.blow_out()\n",
    "    # we're done with these tips at this point\n",
    "    pipette_left.drop_tip()\n",
    "    \n",
    "# disengage magnet\n",
    "magblock.disengage()\n",
    "\n",
    "# add isopropanol\n",
    "pipette_left.transfer(400,\n",
    "                      [wash_buffers[x] for x in isopropanol_wells],\n",
    "                      [transfer[x] for x in cols],\n",
    "                      touch_tip=False,\n",
    "                      trash=True,\n",
    "                      new_tip='once')\n",
    "\n",
    "# mix\n",
    "for col in cols:\n",
    "    pipette_left.pick_up_tip(tiprack_wash.wells_by_name()[col])\n",
    "    pipette_left.mix(5, 200, mag_plate[col].bottom(z=4))\n",
    "    pipette_left.blow_out(mag_plate[col].top())\n",
    "    pipette_left.return_tip()\n",
    "\n",
    "# engage magnet\n",
    "magblock.engage()\n",
    "protocol.delay(minutes=7)"
   ]
  },
  {
   "cell_type": "markdown",
   "metadata": {},
   "source": [
    "### Do second wash"
   ]
  },
  {
   "cell_type": "code",
   "execution_count": 13,
   "metadata": {},
   "outputs": [],
   "source": [
    "# remove supernatant\n",
    "for col in cols:\n",
    "    # two transfers to remove supernatant:\n",
    "    pipette_left.pick_up_tip(tiprack_wash.wells_by_name()[col])\n",
    "    for i in range(0,2):\n",
    "        pipette_left.aspirate(200, mag_plate[col], rate=1)\n",
    "        pipette_left.air_gap(10)\n",
    "        pipette_left.dispense(200, waste['A1'])\n",
    "        pipette_left.blow_out()\n",
    "    # return tips\n",
    "    pipette_left.return_tip()\n",
    "    \n",
    "# disengage magnet\n",
    "magblock.disengage()\n",
    "\n",
    "# add ethanol\n",
    "pipette_left.transfer(300,\n",
    "                      [wash_buffers[x] for x in ethanol_wells],\n",
    "                      [transfer[x] for x in cols],\n",
    "                      touch_tip=False,\n",
    "                      trash=True,\n",
    "                      new_tip='once')\n",
    "\n",
    "# mix\n",
    "for col in cols:\n",
    "    pipette_left.pick_up_tip(tiprack_wash.wells_by_name()[col])\n",
    "    pipette_left.mix(5, 200, mag_plate[col].bottom(z=4))\n",
    "    pipette_left.blow_out(mag_plate[col].top())\n",
    "    pipette_left.return_tip()\n",
    "\n",
    "# engage magnet\n",
    "magblock.engage()\n",
    "protocol.delay(minutes=7)"
   ]
  },
  {
   "cell_type": "markdown",
   "metadata": {},
   "source": [
    "### Do third wash"
   ]
  },
  {
   "cell_type": "code",
   "execution_count": 14,
   "metadata": {},
   "outputs": [],
   "source": [
    "# remove supernatant\n",
    "for col in cols:\n",
    "    # two transfers to remove supernatant:\n",
    "    pipette_left.pick_up_tip(tiprack_wash.wells_by_name()[col])\n",
    "    for i in range(0,2):\n",
    "        pipette_left.aspirate(180, mag_plate[col], rate=1)\n",
    "        pipette_left.air_gap(10)\n",
    "        pipette_left.dispense(180, waste['A1'])\n",
    "        pipette_left.blow_out()\n",
    "    # return tips\n",
    "    pipette_left.return_tip()\n",
    "    \n",
    "# disengage magnet\n",
    "magblock.disengage()\n",
    "\n",
    "# add ethanol\n",
    "pipette_left.transfer(300,\n",
    "                      [wash_buffers[x] for x in ethanol_wells],\n",
    "                      [transfer[x] for x in cols],\n",
    "                      touch_tip=False,\n",
    "                      trash=True,\n",
    "                      new_tip='once')\n",
    "\n",
    "# mix\n",
    "for col in cols:\n",
    "    pipette_left.pick_up_tip(tiprack_wash.wells_by_name()[col])\n",
    "    pipette_left.mix(5, 200, mag_plate[col].bottom(z=4))\n",
    "    pipette_left.blow_out(mag_plate[col].top())\n",
    "    pipette_left.return_tip()\n",
    "\n",
    "# engage magnet\n",
    "magblock.engage()\n",
    "protocol.delay(minutes=7)"
   ]
  },
  {
   "cell_type": "markdown",
   "metadata": {},
   "source": [
    "### Dry"
   ]
  },
  {
   "cell_type": "code",
   "execution_count": 15,
   "metadata": {},
   "outputs": [],
   "source": [
    "# remove supernatant\n",
    "for col in cols:\n",
    "    # two transfers to remove supernatant:\n",
    "    pipette_left.pick_up_tip(tiprack_wash.wells_by_name()[col])\n",
    "    for i in range(0,2):\n",
    "        pipette_left.aspirate(180, mag_plate[col], rate=1)\n",
    "        pipette_left.air_gap(10)\n",
    "        pipette_left.dispense(180, waste['A1'])\n",
    "        pipette_left.blow_out()\n",
    "    # we're done with these tips at this point\n",
    "    pipette_left.drop_tip()\n",
    "\n",
    "# dry\n",
    "protocol.delay(minutes=5)"
   ]
  },
  {
   "cell_type": "markdown",
   "metadata": {},
   "source": [
    "### Elute"
   ]
  },
  {
   "cell_type": "code",
   "execution_count": 16,
   "metadata": {},
   "outputs": [],
   "source": [
    "# transfer elution buffer to mag plate\n",
    "\n",
    "magblock.disengage()\n",
    "\n",
    "# add elution buffer and mix\n",
    "for col in cols:\n",
    "    pipette_left.pick_up_tip(tiprack_elution.wells_by_name()[col])\n",
    "    pipette_left.aspirate(70, reagents['A2'], rate=1)\n",
    "    pipette_left.dispense(70, mag_plate[col].bottom(z=1))\n",
    "    pipette_left.mix(10, 60, mag_plate[col].bottom(z=1))\n",
    "    pipette_left.blow_out(mag_plate[col].top())\n",
    "    pipette_left.touch_tip()\n",
    "    # we'll use these same tips for final transfer\n",
    "    pipette_left.return_tip()\n",
    "    \n",
    "# wait five minutes to elute further\n",
    "protocol.delay(minutes=2)\n",
    "\n",
    "magblock.engage()\n",
    "protocol.delay(minutes=7)\n",
    "\n",
    "for col in cols:\n",
    "    pipette_left.pick_up_tip(tiprack_elution.wells_by_name()[col])\n",
    "    pipette_left.aspirate(70, mag_plate[col], rate=1)\n",
    "    pipette_left.dispense(70, eluate[col].bottom(z=1))\n",
    "    pipette_left.blow_out(mag_plate[col].top())\n",
    "    pipette_left.touch_tip()\n",
    "    # we're done with these tips now\n",
    "    pipette_left.drop_tip()"
   ]
  },
  {
   "cell_type": "code",
   "execution_count": null,
   "metadata": {},
   "outputs": [],
   "source": []
  }
 ],
 "metadata": {
  "kernelspec": {
   "display_name": "Python 3",
   "language": "python",
   "name": "python3"
  },
  "language_info": {
   "codemirror_mode": {
    "name": "ipython",
    "version": 3
   },
   "file_extension": ".py",
   "mimetype": "text/x-python",
   "name": "python",
   "nbconvert_exporter": "python",
   "pygments_lexer": "ipython3",
   "version": "3.7.3"
  }
 },
 "nbformat": 4,
 "nbformat_minor": 2
}

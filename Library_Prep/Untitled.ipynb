{
 "cells": [
  {
   "cell_type": "code",
   "execution_count": null,
   "metadata": {},
   "outputs": [],
   "source": []
  },
  {
   "cell_type": "markdown",
   "metadata": {},
   "source": [
    "#### Tagmentation\n",
    "* Dilute BLT 1:40\n",
    "    * need 10 µL per sample\n",
    "    * 1 µL -> 40 µL h2o\n",
    "* Add 10 µL BLT dilution to each well\n",
    "* Add 25 µL lab TB1 (tris, MgCl, DMF)\n",
    "* Add 10 µL DNA to each well\n",
    "* Run TAG program:\n",
    "    * lid @ 100 °C\n",
    "    * incubate @ 55 °C 15 min\n",
    "    * hold @ 10 °C"
   ]
  },
  {
   "cell_type": "markdown",
   "metadata": {},
   "source": [
    "Set up deck:\n",
    "- BLT in reagent plate (130 µL per well in one column)\n",
    "- TB1 in well plate (3 mL)\n",
    "- DNA plate (PCR)\n",
    "- reaction plate (PCR)\n",
    "\n",
    "Transfer 25 µL of TB1 to each well of reaction plate\n",
    "Transfer 10 µL of TB1 to each well of reaction plate\n",
    "Transfer 10 µL of DNA to each well of reaction plate\n",
    "\n",
    "Prompt user to move plate to PCR machine and run TAG program"
   ]
  },
  {
   "cell_type": "markdown",
   "metadata": {},
   "source": [
    "#### Post-tagmentation Cleanup\n",
    "* Add 10 µL lab TSB (0.2% SDS) to each well\n",
    "* Run PTC program:\n",
    "    * lid @ 100 °C\n",
    "    * incubate @ 37 °C 15 min\n",
    "    * hold @ 10 °C\n",
    "* Place on magnetic stand, discard supernatant\n",
    "* Remove from stand and wash with 100 µL lab TWB (10% PEG + NaCl + TE)\n",
    "    * pipette to resuspend\n",
    "    * place on magnet to clear\n",
    "    * repeat 2X, leave on magnet w/ supernatant last step"
   ]
  },
  {
   "cell_type": "markdown",
   "metadata": {},
   "source": [
    "Set up deck:  \n",
    "- TSB in reagent plate (130 µL per well in one column)\n",
    "- TWB in well plate (33 mL)\n",
    "\n",
    "Transfer 10 µL TSB to each well\n",
    "Prompt user to move plate to PCR amchine and run PTC program\n",
    "\n",
    "Mag wash:\n",
    "- place samples on mag block\n",
    "- engage for 7 minutes\n",
    "- pipette out supernatant\n",
    "- disengage magnet\n",
    "- add TWB solution, mix\n",
    "- engage for 7 minutes\n",
    "- pipette out supernatant\n",
    "- disengage magnet\n",
    "- repeat 2X"
   ]
  },
  {
   "cell_type": "markdown",
   "metadata": {},
   "source": [
    "#### Amplify tagmented DNA\n",
    "* Make master mix: \n",
    "    * 10 µL 5X GXL\n",
    "    * 4 µL 25 mM dNTP\n",
    "    * 2 µL GXL pol\n",
    "    * 14 µL H2O\n",
    "* add 30 µL master mix per well\n",
    "    * pipette to mix\n",
    "* Add primers:\n",
    "    * 10 µL i7\n",
    "    * 10 µL i5\n",
    "    * pipette to mix\n",
    "* Run BLT program\n",
    "    * 12 cycles"
   ]
  },
  {
   "cell_type": "markdown",
   "metadata": {},
   "source": [
    "Set up deck:\n",
    "- 3.3 mL master mix in well plate\n",
    "- i7 primer plate\n",
    "- i5 primer plate\n",
    "\n",
    "Transfer 30 µL MM to plate\n",
    "Transfer 10 µL i7 to plate\n",
    "Transfer 10 µL i5 to plate\n",
    "\n",
    "Prompt user to run BLT program"
   ]
  },
  {
   "cell_type": "markdown",
   "metadata": {},
   "source": [
    "#### Cleanup\n",
    "* Centrifuge 280 xg 1 minute\n",
    "* Place on magnetic stand untilo clear\n",
    "* Transfer 45 µL to new plate\n",
    "* Add 40 µL H2O\n",
    "* Add 45 µL lab SPB (SPRI beads), pipette 10x to mix\n",
    "    * incubate 5 min at RT\n",
    "    * Place on stand until clear\n",
    "* add 15 µL lab SPB (SPRI beads) to new plate\n",
    "* Transfer 125 µL supernatant to new plate, pipette 10x to mix\n",
    "    * incubate 5 min at RT\n",
    "    * place on stand until clear\n",
    "* Wash 2x with 80% EtOH\n",
    "* Elute in 32 µL H2O\n"
   ]
  },
  {
   "cell_type": "code",
   "execution_count": null,
   "metadata": {},
   "outputs": [],
   "source": []
  }
 ],
 "metadata": {
  "kernelspec": {
   "display_name": "Python 3",
   "language": "python",
   "name": "python3"
  },
  "language_info": {
   "codemirror_mode": {
    "name": "ipython",
    "version": 3
   },
   "file_extension": ".py",
   "mimetype": "text/x-python",
   "name": "python",
   "nbconvert_exporter": "python",
   "pygments_lexer": "ipython3",
   "version": "3.7.3"
  }
 },
 "nbformat": 4,
 "nbformat_minor": 2
}
